{
  "nbformat": 4,
  "nbformat_minor": 0,
  "metadata": {
    "colab": {
      "provenance": []
    },
    "kernelspec": {
      "name": "python3",
      "display_name": "Python 3"
    },
    "language_info": {
      "name": "python"
    }
  },
  "cells": [
    {
      "cell_type": "markdown",
      "source": [
        "# 💡 Lesson 1：用 Python 实现控制灯逻辑 From 0 to 1\n",
        "\n",
        "\n",
        "\n",
        "---\n",
        "\n"
      ],
      "metadata": {
        "id": "R94S7DsAxODt"
      }
    },
    {
      "cell_type": "markdown",
      "source": [
        "# Python 面向对象编程（OOP）关键字及中文解释表\n",
        "\n",
        "| 关键字 / 概念          | 英文关键词               | 说明（中文）                                                       |\n",
        "|-----------------------|-------------------------|--------------------------------------------------------------------|\n",
        "| 类                    | Class                   | 定义对象的模板或蓝图，描述一类事物的属性和行为                     |\n",
        "| 对象                  | Object / Instance       | 根据类创建的具体实例，具有类定义的属性和方法                       |\n",
        "| 方法                  | Method                  | 定义在类中的函数，用于描述对象的行为                               |\n",
        "| 属性                  | Attribute               | 类或对象中存储的数据，用于描述对象的状态                           |\n",
        "| 继承                  | Inheritance             | 子类继承父类的属性和方法，实现代码复用和层次结构                   |\n",
        "| 多态                  | Polymorphism            | 不同类的对象对同一消息（方法调用）作出不同的响应                   |\n",
        "| 封装                  | Encapsulation           | 将数据和方法包装在类内部，隐藏实现细节，保护对象的状态            |\n",
        "| 构造函数              | Constructor (`__init__`) | 类被实例化时自动调用的方法，用于初始化对象属性                     |\n",
        "| 继承父类构造函数      | super()                 | 用于调用父类的方法，通常用于子类中调用父类的构造函数               |\n",
        "| 私有属性/方法        | Private Attribute/Method | 以双下划线开头（如 `__name`），在类外部不可直接访问               |\n",
        "| 公有属性/方法        | Public Attribute/Method  | 默认访问权限，类内外均可访问                                       |\n",
        "| 类变量                | Class Variable          | 属于类的变量，所有实例共享                                         |\n",
        "| 实例变量              | Instance Variable       | 属于对象的变量，每个实例拥有独立副本                               |\n",
        "| 抽象类                | Abstract Class          | 不能被实例化，只能被继承，通常包含抽象方法（接口规范）            |\n",
        "| 抽象方法              | Abstract Method         | 只声明不实现的方法，子类必须实现                                   |\n",
        "| 接口                  | Interface               | 定义规范，约束类必须实现某些方法（Python中通过抽象基类实现）      |\n",
        "\n",
        "---"
      ],
      "metadata": {
        "id": "EaHcbA_R03qF"
      }
    },
    {
      "cell_type": "markdown",
      "source": [
        "# Python 面向对象编程相关基础关键字及中文解释表\n",
        "\n",
        "| 关键字 / 概念    | 英文关键词        | 说明（中文）                                                |\n",
        "|-----------------|------------------|-------------------------------------------------------------|\n",
        "| 变量            | Variable         | 用于存储数据的命名空间，值可以改变                          |\n",
        "| 数据类型        | Data Type        | 数据的种类，如整数(int)、浮点数(float)、字符串(str)等       |\n",
        "| 条件语句        | Conditional      | 根据条件执行不同代码，如 if、elif、else                      |\n",
        "| 循环            | Loop             | 重复执行代码块，如 for、while                               |\n",
        "| 函数            | Function         | 封装可复用代码块，用 def 定义                                |\n",
        "| 参数            | Parameter        | 传递给函数的变量                                            |\n",
        "| 返回值          | Return Value     | 函数执行后输出的结果                                        |\n",
        "| 模块            | Module           | 包含代码的文件或库，用于组织和复用代码                       |\n",
        "| 异常处理        | Exception Handling | 用 try-except 捕获和处理运行时错误                         |\n",
        "| 类              | Class            | 面向对象编程的模板，定义属性和方法                           |\n",
        "| 对象            | Object           | 类的实例，具体的数据和行为实体                               |\n",
        "| 继承            | Inheritance      | 子类继承父类的属性和方法                                    |\n",
        "| 多态            | Polymorphism     | 不同对象对相同方法调用有不同响应                            |\n",
        "| 封装            | Encapsulation    | 隐藏内部实现，保护对象数据                                  |\n",
        "| 构造函数        | Constructor      | 用 __init__ 初始化对象属性                                   |\n",
        "| 私有变量/方法   | Private Member   | 以双下划线开头，外部不可访问                                |\n",
        "\n",
        "---"
      ],
      "metadata": {
        "id": "IoKyOvtv2F4M"
      }
    },
    {
      "cell_type": "markdown",
      "source": [
        "## 代码演示\n",
        "> 🎯 目标：使用 Python 模拟 PLC 的基本控制逻辑 —— 按下按钮，延时 2 秒后打开/关闭灯。\n"
      ],
      "metadata": {
        "id": "_H33QghL1Ls3"
      }
    },
    {
      "cell_type": "markdown",
      "source": [
        "\n",
        "\n",
        "```\n",
        "[等待用户按下 Enter]\n",
        "↓\n",
        "[延时 2 秒（TON 定时器）]\n",
        "↓\n",
        "[切换灯状态（取反线圈）]\n",
        "↓\n",
        "[输出灯亮/灭]\n",
        "↓\n",
        "[循环等待下一次指令]\n",
        "```\n",
        "\n"
      ],
      "metadata": {
        "id": "WzJmsRHx1Gww"
      }
    },
    {
      "cell_type": "markdown",
      "source": [
        "✅ Step 1: 导入 Python 模块\n",
        "\n",
        "Python 提供 `time` 模块用于延时，等价于 PLC 中的 TON 定时器。"
      ],
      "metadata": {
        "id": "FY1xzMPdvYAL"
      }
    },
    {
      "cell_type": "code",
      "execution_count": null,
      "metadata": {
        "id": "0rIbR_DgvMu8"
      },
      "outputs": [],
      "source": [
        "import time"
      ]
    },
    {
      "cell_type": "markdown",
      "source": [
        "✅ Step 2: 定义变量 — 状态管理（LED 开关状态）\n",
        "\n",
        "\t•\t在 PLC 中我们通常会用内部位（M bit）来存灯的状态\n",
        "\t•\t在 Python 中，我们使用变量（Boolean 类型）来表示"
      ],
      "metadata": {
        "id": "0rTZRDEWxWGA"
      }
    },
    {
      "cell_type": "code",
      "source": [
        "led_status = False  # False 表示关闭，True 表示开启"
      ],
      "metadata": {
        "id": "Sbd7wMR9xZCz"
      },
      "execution_count": null,
      "outputs": []
    },
    {
      "cell_type": "markdown",
      "source": [
        "✅ Step 3: 写一个函数，执行灯的开关切换逻辑\n",
        "\n",
        "\t•\t使用 not 操作符切换状态（取反）\n",
        "\t•\t使用 print() 输出当前状态，用于模拟现实中的“灯亮”或“灯灭”"
      ],
      "metadata": {
        "id": "8PEy6XAWxb5E"
      }
    },
    {
      "cell_type": "code",
      "source": [
        "def toggle_led():\n",
        "    global led_status  # 使用全局变量保存灯状态\n",
        "    led_status = not led_status  # 状态切换\n",
        "    if led_status:\n",
        "        print(\"💡 LED 已开启\")\n",
        "    else:\n",
        "        print(\"🔌 LED 已关闭\")"
      ],
      "metadata": {
        "id": "3v-GjQclxih1"
      },
      "execution_count": null,
      "outputs": []
    },
    {
      "cell_type": "markdown",
      "source": [
        "✅ Step 4: 模拟按钮输入（input）+ 延时控制（sleep）\n",
        "\n",
        "\t•\t使用 input() 暂停程序，模拟“等待人按下按钮”\n",
        "\t•\t使用 time.sleep() 来模拟 PLC 中的延时（TON）"
      ],
      "metadata": {
        "id": "jcF_MCGpxky4"
      }
    },
    {
      "cell_type": "code",
      "source": [
        "def press_button():\n",
        "    input(\"📥 请按下 Enter 键模拟按钮启动...\")\n",
        "    print(\"⏳ 正在延时 2 秒...\")\n",
        "    time.sleep(2)  # 等待 2 秒\n",
        "    toggle_led()   # 切换 LED 状态 Call function"
      ],
      "metadata": {
        "id": "wZXqmdk7xm3u"
      },
      "execution_count": null,
      "outputs": []
    },
    {
      "cell_type": "markdown",
      "source": [
        "✅ Step 5: 加入主程序循环\n",
        "\n",
        "\t•\t使用 while True: 实现持续运行（等同 PLC 循环扫描）\n",
        "\t•\t使用 break 实现退出机制（输入 exit 即可）"
      ],
      "metadata": {
        "id": "WX1bu480xog-"
      }
    },
    {
      "cell_type": "code",
      "source": [
        "for i in range(3): # 0, 1, 2\n",
        "    print(\"i = \", i)\n",
        "    if i == 8:\n",
        "      print(\"# 0 this is continue\")\n",
        "      break\n",
        "    elif i % 2 == 0:\n",
        "      print(\"# 1 this is continue\")\n",
        "      continue\n",
        "    else:\n",
        "      print(\"# 2 odd number ?\")"
      ],
      "metadata": {
        "colab": {
          "base_uri": "https://localhost:8080/"
        },
        "id": "5PiRtZFHTOaP",
        "outputId": "a3c420dc-6b39-49ec-8db6-a4cb1c5b9232"
      },
      "execution_count": null,
      "outputs": [
        {
          "output_type": "stream",
          "name": "stdout",
          "text": [
            "i =  0\n",
            "# 1 this is continue\n",
            "i =  1\n",
            "# 2 odd number ?\n",
            "i =  2\n",
            "# 1 this is continue\n",
            "i =  3\n",
            "# 2 odd number ?\n",
            "i =  4\n",
            "# 1 this is continue\n",
            "i =  5\n",
            "# 2 odd number ?\n",
            "i =  6\n",
            "# 1 this is continue\n",
            "i =  7\n",
            "# 2 odd number ?\n",
            "i =  8\n",
            "# 0 this is continue\n"
          ]
        }
      ]
    },
    {
      "cell_type": "code",
      "source": [
        "while True: # False\n",
        "    user_input = input(\"👉 按 Enter 切换 LED，或输入 'exit' 退出：\")\n",
        "    print(\"DEGUG: user_input = \", user_input)\n",
        "    if user_input == \"exit\":\n",
        "        print(\"🛑 程序已退出\")\n",
        "        break\n",
        "    elif user_input == \"skip\":\n",
        "        print(\"跳过本次循环\")\n",
        "        continue\n",
        "    else:\n",
        "        press_button()"
      ],
      "metadata": {
        "colab": {
          "base_uri": "https://localhost:8080/"
        },
        "id": "YG_8YAeVxrn1",
        "outputId": "89b7ee8d-d587-4763-e6a9-41349ec62f02"
      },
      "execution_count": null,
      "outputs": [
        {
          "output_type": "stream",
          "name": "stdout",
          "text": [
            "👉 按 Enter 切换 LED，或输入 'exit' 退出：999\n",
            "DEGUG: user_input =  999\n",
            "📥 请按下 Enter 键模拟按钮启动...888\n",
            "⏳ 正在延时 2 秒...\n",
            "🔌 LED 已关闭\n",
            "👉 按 Enter 切换 LED，或输入 'exit' 退出：exit\n",
            "DEGUG: user_input =  exit\n",
            "🛑 程序已退出\n"
          ]
        }
      ]
    },
    {
      "cell_type": "markdown",
      "source": [
        "## 完整代码: 使用 Python 模拟 PLC 的基本控制逻辑 —— 按下按钮，延时 2 秒后打开/关闭灯。\n",
        "## Full Code: Using Python to Simulate a PLC — Press a Button, Wait 2 Seconds, Toggle the LED\n"
      ],
      "metadata": {
        "id": "Su50AyUYyUA-"
      }
    },
    {
      "cell_type": "code",
      "source": [
        "import time\n",
        "\n",
        "led_status = False  # False 表示关闭，True 表示开启\n",
        "\n",
        "# 执行灯的开关切换逻辑\n",
        "def toggle_led():\n",
        "    global led_status  # 使用全局变量保存灯状态\n",
        "    led_status = not led_status  # 状态切换\n",
        "    if led_status:\n",
        "        print(\"💡 LED 已开启\")\n",
        "    else:\n",
        "        print(\"🔌 LED 已关闭\")\n",
        "# 模拟按钮输入（input）+ 延时控制（sleep）\n",
        "def press_button():\n",
        "    input(\"📥 请按下 Enter 键模拟按钮启动...\")\n",
        "    print(\"⏳ 正在延时 2 秒...\")\n",
        "    time.sleep(2)  # 等待 2 秒\n",
        "    toggle_led()   # 切换 LED 状态\n",
        "# 加入主程序循环\n",
        "while True:\n",
        "    user_input = input(\"👉 按 Enter 切换 LED，或输入 'exit' 退出：\")\n",
        "    if user_input == \"exit\":\n",
        "        print(\"🛑 程序已退出\")\n",
        "        break\n",
        "    else:\n",
        "        press_button()"
      ],
      "metadata": {
        "colab": {
          "base_uri": "https://localhost:8080/"
        },
        "id": "cOSULhaaxFzD",
        "outputId": "0ee2f47c-c338-4bf9-c5eb-d6020d8628e2"
      },
      "execution_count": null,
      "outputs": [
        {
          "output_type": "stream",
          "name": "stdout",
          "text": [
            "👉 按 Enter 切换 LED，或输入 'exit' 退出：000\n",
            "📥 请按下 Enter 键模拟按钮启动...111\n",
            "⏳ 正在延时 2 秒...\n",
            "💡 LED 已开启\n",
            "👉 按 Enter 切换 LED，或输入 'exit' 退出：exit\n",
            "🛑 程序已退出\n"
          ]
        }
      ]
    },
    {
      "cell_type": "markdown",
      "source": [
        "# Python 控制灯程序关键词与实现对照表\n",
        "\n",
        "| Python 关键词 / 代码片段        | 中文含义与功能说明                                          | PLC 对应概念 / 功能                            |\n",
        "|-------------------------------|----------------------------------------------------------|----------------------------------------------|\n",
        "| `import time`                  | 导入模块，提供时间相关函数，用于延时                       | TON 定时器（通电延时器）                      |\n",
        "| `led_status = False`           | 布尔变量，记录灯的状态（False=关，True=开）                | 状态位（如 M0.0）                            |\n",
        "| `def toggle_led():`            | 定义函数，切换灯的状态                                     | 过程块或功能块，封装动作                      |\n",
        "| `global led_status`            | 使用全局变量，函数内修改全局状态变量                       | 全局标志位，允许多个程序块共享                |\n",
        "| `led_status = not led_status`  | 取反操作，状态切换                                         | 取反位/线圈反转（翻转继电器状态）             |\n",
        "| `if led_status:`               | 条件判断，根据状态执行不同操作                             | 接点（触点）判断，条件分支                    |\n",
        "| `print(\"LED 已开启\")`          | 模拟灯亮输出提示                                         | 输出线圈动作（点亮灯）                        |\n",
        "| `print(\"LED 已关闭\")`          | 模拟灯灭输出提示                                         | 输出线圈动作（关闭灯）                        |\n",
        "| `def press_button():`          | 定义函数，模拟按钮按下操作                                 | 按钮触点输入（I0.0）                          |\n",
        "| `input(\"请按下 Enter 键…\")`    | 程序等待用户输入，模拟按钮动作                             | 等待按钮按下信号                             |\n",
        "| `time.sleep(2)`                | 程序延时2秒                                               | TON定时器延时2秒                             |\n",
        "| `toggle_led()`                 | 调用函数，切换灯状态                                     | 输出继电器线圈切换动作                        |\n",
        "| `while True:`                 | 无限循环，持续执行控制逻辑                                | PLC主程序循环扫描                            |\n",
        "| `user_input = input(...)`      | 等待用户输入，用于控制循环退出                             | 人机界面（HMI）输入或手动停止                 |\n",
        "| `if user_input == \"exit\":`    | 判断是否退出程序                                         | 条件跳转或程序停止                            |\n",
        "| `break`                       | 跳出循环，停止程序                                       | 跳出循环或停止程序                            |\n",
        "| `else: press_button()`        | 继续执行按钮控制逻辑                                     | 按钮启动控制逻辑                              |\n",
        "\n",
        "---"
      ],
      "metadata": {
        "id": "aDL0xjz01B1G"
      }
    },
    {
      "cell_type": "markdown",
      "source": [
        "## 如果想灯开1秒关1秒循环3次，要怎样实现呢?"
      ],
      "metadata": {
        "id": "ksbuZGh34Oyi"
      }
    },
    {
      "cell_type": "code",
      "source": [],
      "metadata": {
        "id": "5-g5pkjx7d_M"
      },
      "execution_count": null,
      "outputs": []
    }
  ]
}