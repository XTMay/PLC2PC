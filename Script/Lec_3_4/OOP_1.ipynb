{
  "nbformat": 4,
  "nbformat_minor": 0,
  "metadata": {
    "colab": {
      "provenance": [],
      "collapsed_sections": [
        "H9E4Mgw0err9",
        "HOQKK4_AgiwT",
        "pkiw57Gxg2Zq"
      ]
    },
    "kernelspec": {
      "name": "python3",
      "display_name": "Python 3"
    },
    "language_info": {
      "name": "python"
    }
  },
  "cells": [
    {
      "cell_type": "markdown",
      "source": [
        "# 面向对象程序设计 (OOP)"
      ],
      "metadata": {
        "id": "ioURGhQvekgk"
      }
    },
    {
      "cell_type": "markdown",
      "source": [
        "\n",
        "## 1. OOP 核心概念\n",
        "\n",
        "\n",
        "\n",
        "> 类（Class）：模板 / 蓝图\n",
        "\n",
        "> 对象（Object / Instance）：类的具体实例\n",
        "\n",
        "> 属性（Attribute）：描述对象状态的变量\n",
        "\n",
        "> 方法（Method）：对象可以执行的行为 / 功能"
      ],
      "metadata": {
        "id": "H9E4Mgw0err9"
      }
    },
    {
      "cell_type": "markdown",
      "source": [
        "\n",
        "**实例化 (Instantiation)：**\n",
        "\n",
        "```\n",
        "my_car = Car()\n",
        "```\n",
        "\n",
        "\n"
      ],
      "metadata": {
        "id": "frB_3gVbe3DU"
      }
    },
    {
      "cell_type": "markdown",
      "source": [
        "## 2. 示例 1：Dog 类"
      ],
      "metadata": {
        "id": "uYm2pxX6fIQo"
      }
    },
    {
      "cell_type": "markdown",
      "source": [
        "### 定义类"
      ],
      "metadata": {
        "id": "w6I4wdHqf0Dd"
      }
    },
    {
      "cell_type": "code",
      "source": [
        "def fun(parpm_1, param_2):\n",
        "  print(parpm_1, param_2)\n",
        "\n",
        "fun(\"小白\", \"白色\")"
      ],
      "metadata": {
        "colab": {
          "base_uri": "https://localhost:8080/"
        },
        "id": "HpDnExk5mtBc",
        "outputId": "250e0560-46f1-4718-c509-a50da2ec2410"
      },
      "execution_count": null,
      "outputs": [
        {
          "output_type": "stream",
          "name": "stdout",
          "text": [
            "小白 白色\n"
          ]
        }
      ]
    },
    {
      "cell_type": "code",
      "source": [
        "class Dog: # Self--> Dog\n",
        "  def bark(self): #方法\n",
        "      print(f\"{self.name} says: Woof!\")\n",
        "\n",
        "  def __init__(self, abc, def_1, ghi): # 最先被调用的Call Function, abc, def, ghi 参数 #  属性都是在init函数里定义的 初始化函数\n",
        "    self.name =  abc # 它的属性是什么？\n",
        "    self.color =  def_1 # 属性\n",
        "    self.age = ghi # 属性"
      ],
      "metadata": {
        "id": "jAGqY1WefQ39"
      },
      "execution_count": null,
      "outputs": []
    },
    {
      "cell_type": "markdown",
      "source": [
        "### 创建对象"
      ],
      "metadata": {
        "id": "iEOffvxlfXZ6"
      }
    },
    {
      "cell_type": "code",
      "source": [
        "my_dog = Dog(\"小白\", \"白色\", \"18\") #创建对象"
      ],
      "metadata": {
        "id": "1UWPb-fsfZnz"
      },
      "execution_count": null,
      "outputs": []
    },
    {
      "cell_type": "code",
      "source": [
        "my_dog.bark()"
      ],
      "metadata": {
        "colab": {
          "base_uri": "https://localhost:8080/"
        },
        "id": "17MsEzk3o54J",
        "outputId": "14cd4717-421a-4a89-ad7a-647841ade564"
      },
      "execution_count": null,
      "outputs": [
        {
          "output_type": "stream",
          "name": "stdout",
          "text": [
            "小白 says: Woof!\n"
          ]
        }
      ]
    },
    {
      "cell_type": "code",
      "source": [
        "black_dog = Dog(\"小黑\", \"黑色\", \"10\") #创建对象"
      ],
      "metadata": {
        "id": "4mSEy3Q_pWvr"
      },
      "execution_count": null,
      "outputs": []
    },
    {
      "cell_type": "code",
      "source": [
        "black_dog.bark()"
      ],
      "metadata": {
        "colab": {
          "base_uri": "https://localhost:8080/"
        },
        "id": "1e4EzuNMpkHZ",
        "outputId": "53a9e4bb-8837-4fda-c79b-968a591dbb7d"
      },
      "execution_count": null,
      "outputs": [
        {
          "output_type": "stream",
          "name": "stdout",
          "text": [
            "小黑 says: Woof!\n"
          ]
        }
      ]
    },
    {
      "cell_type": "markdown",
      "source": [
        "### 添加 change_color 方法"
      ],
      "metadata": {
        "id": "TsPQJLxofwrn"
      }
    },
    {
      "cell_type": "code",
      "source": [
        "class Dog:\n",
        "  def __init__(self, name, color): # self --> Dog\n",
        "    self.name = name\n",
        "    self.color = color\n",
        "\n",
        "  def bark(self):\n",
        "      print(f\"{self.name} says: Woof!\")\n",
        "\n",
        "  def change_color(self, new_color):\n",
        "      self.color = new_color\n",
        "      print(f\"{self.name} 的颜色变成了 {self.color}\")"
      ],
      "metadata": {
        "id": "qPU1bhJWf5Og"
      },
      "execution_count": null,
      "outputs": []
    },
    {
      "cell_type": "code",
      "source": [
        "white_dog = Dog('', '') # name: 小白, color: 白色\n",
        "# black_dog --> self --> Dog"
      ],
      "metadata": {
        "id": "oEYMSkkVp-x3"
      },
      "execution_count": null,
      "outputs": []
    },
    {
      "cell_type": "code",
      "source": [
        "white_dog.color = '白色'"
      ],
      "metadata": {
        "id": "0N_IS8OJsWhI"
      },
      "execution_count": null,
      "outputs": []
    },
    {
      "cell_type": "code",
      "source": [
        "white_dog.color"
      ],
      "metadata": {
        "colab": {
          "base_uri": "https://localhost:8080/",
          "height": 35
        },
        "id": "pnp6-1Jgso9l",
        "outputId": "43bdc22b-ec66-4c75-a642-d5b3746dfc19"
      },
      "execution_count": null,
      "outputs": [
        {
          "output_type": "execute_result",
          "data": {
            "text/plain": [
              "'白色'"
            ],
            "application/vnd.google.colaboratory.intrinsic+json": {
              "type": "string"
            }
          },
          "metadata": {},
          "execution_count": 25
        }
      ]
    },
    {
      "cell_type": "code",
      "source": [
        "white_dog.name"
      ],
      "metadata": {
        "colab": {
          "base_uri": "https://localhost:8080/",
          "height": 35
        },
        "id": "i-GfWwY3s36K",
        "outputId": "fc4f7bf0-192c-4bbf-bdb8-1e9be09c6b54"
      },
      "execution_count": null,
      "outputs": [
        {
          "output_type": "execute_result",
          "data": {
            "text/plain": [
              "'小白'"
            ],
            "application/vnd.google.colaboratory.intrinsic+json": {
              "type": "string"
            }
          },
          "metadata": {},
          "execution_count": 29
        }
      ]
    },
    {
      "cell_type": "code",
      "source": [
        "white_dog.name = '小白'"
      ],
      "metadata": {
        "id": "Uj67tH2-s6Kq"
      },
      "execution_count": null,
      "outputs": []
    },
    {
      "cell_type": "code",
      "source": [
        "black_dog = Dog(\"小黑\", \"黑色\") # name: 小白, color: 白色\n",
        "# black_dog --> self --> Dog"
      ],
      "metadata": {
        "id": "oPvVDi_Hq4fi"
      },
      "execution_count": null,
      "outputs": []
    },
    {
      "cell_type": "code",
      "source": [
        "\n",
        "my_dog.bark()\n",
        "my_dog.change_color(\"黑色\")"
      ],
      "metadata": {
        "id": "-HCR73Fzp8jI"
      },
      "execution_count": null,
      "outputs": []
    },
    {
      "cell_type": "markdown",
      "source": [
        "## 3. 示例 2：Car 类"
      ],
      "metadata": {
        "id": "tBs72tw6gKCz"
      }
    },
    {
      "cell_type": "code",
      "source": [
        "class Car:\n",
        "  def __init__(self, brand, model):\n",
        "    self.brand = brand # 属性\n",
        "    self.model = model # 属性\n",
        "    self.speed = 0 # 属性\n",
        "    self.type_car = \"油车\" # 属性 （油车， 电车， 混合车）\n",
        "\n",
        "  def accelerate(self, amount):\n",
        "      self.speed += amount # self.speed = self.speed + amount\n",
        "      print(f\"{self.brand} {self.model} {self.type_car} 加速中，目前时速 {self.speed} km/h\")\n",
        "\n",
        "  def brake(self):\n",
        "      self.speed = max(0, self.speed - 10) # self.speed >= 0\n",
        "      print(f\"{self.brand} {self.model} {self.type_car} 刹车，目前时速 {self.speed} km/h\")\n",
        "\n",
        "  def charge(self, amount): # 10\n",
        "    if self.type_car == '油车':\n",
        "      print(f\"{self.brand} {self.model} {self.type_car} 加了 {amount}kg 油\")\n",
        "    elif self.type_car == '电车':\n",
        "      print(f\"{self.brand} {self.model} {self.type_car} 充了 {amount}kw 电\")\n",
        "    elif self.type_car == '混合车':\n",
        "      print(f\"{self.brand} {self.model} {self.type_car} 加了 {amount/2}kg 油, 充了 {amount/2}kw 电\")\n",
        "    else:\n",
        "      print(\"错误❌\")\n",
        "\n",
        "  # 边界条件"
      ],
      "metadata": {
        "id": "z2ULKEtYgRaZ"
      },
      "execution_count": null,
      "outputs": []
    },
    {
      "cell_type": "code",
      "source": [
        "tesla = Car(\"Tesla\", \"Model Y\")"
      ],
      "metadata": {
        "id": "uu3jqtF_xRHk"
      },
      "execution_count": null,
      "outputs": []
    },
    {
      "cell_type": "code",
      "source": [
        "tesla.type_car"
      ],
      "metadata": {
        "colab": {
          "base_uri": "https://localhost:8080/",
          "height": 35
        },
        "id": "mZldHjg7xzn2",
        "outputId": "87ffb4b7-2b2e-4ebe-b8d7-e1d6b859cf4b"
      },
      "execution_count": null,
      "outputs": [
        {
          "output_type": "execute_result",
          "data": {
            "text/plain": [
              "'油车'"
            ],
            "application/vnd.google.colaboratory.intrinsic+json": {
              "type": "string"
            }
          },
          "metadata": {},
          "execution_count": 67
        }
      ]
    },
    {
      "cell_type": "code",
      "source": [
        "tesla.charge(30)"
      ],
      "metadata": {
        "colab": {
          "base_uri": "https://localhost:8080/"
        },
        "id": "mIL4kFUDx8Lg",
        "outputId": "1fed80a2-7961-431e-88ee-48a597d561e1"
      },
      "execution_count": null,
      "outputs": [
        {
          "output_type": "stream",
          "name": "stdout",
          "text": [
            "Tesla Model Y 油车 加了 30kg 油\n"
          ]
        }
      ]
    },
    {
      "cell_type": "code",
      "source": [
        "tesla.type_car = '电车'"
      ],
      "metadata": {
        "id": "phDT1a2ixlsh"
      },
      "execution_count": null,
      "outputs": []
    },
    {
      "cell_type": "code",
      "source": [
        "tesla.charge(50)"
      ],
      "metadata": {
        "colab": {
          "base_uri": "https://localhost:8080/"
        },
        "id": "uvFIOdhByNG4",
        "outputId": "17727964-baa1-4a24-ab59-e239769590d4"
      },
      "execution_count": null,
      "outputs": [
        {
          "output_type": "stream",
          "name": "stdout",
          "text": [
            "Tesla Model Y 电车 充了 50kw 电\n"
          ]
        }
      ]
    },
    {
      "cell_type": "markdown",
      "source": [
        "## 4. 示例 3：💡Lamp 类扩展\n",
        "- 属性：颜色、状态（开/关）\n",
        "\n",
        "- 方法：turn_on, turn_off, set_color\n",
        "\n",
        "- LampGroup 类：串联/并联控制"
      ],
      "metadata": {
        "id": "HOQKK4_AgiwT"
      }
    },
    {
      "cell_type": "code",
      "source": [
        "class Lamp:\n",
        "  def __init__(self, name, color=\"白色\"):\n",
        "    self.name = name\n",
        "    self.color = color\n",
        "    self.is_on = False\n",
        "\n",
        "  def turn_on(self):\n",
        "      self.is_on = True\n",
        "      print(f\"💡 {self.name} 灯亮了（颜色：{self.color}）\")\n",
        "\n",
        "  def turn_off(self):\n",
        "      self.is_on = False\n",
        "      print(f\"💡 {self.name} 灯灭了\")\n",
        "\n",
        "  def set_color(self, color):\n",
        "      self.color = color\n",
        "      print(f\"💡 {self.name} 颜色设置为 {self.color}\")\n",
        "\n",
        "lamp1 = Lamp(\"客厅\")\n",
        "lamp1.turn_on()\n",
        "lamp1.set_color(\"蓝色\")\n",
        "lamp1.turn_off()"
      ],
      "metadata": {
        "colab": {
          "base_uri": "https://localhost:8080/"
        },
        "id": "onNop4_2g2l2",
        "outputId": "a5fdd935-02b8-4504-c543-09a57887a271"
      },
      "execution_count": null,
      "outputs": [
        {
          "output_type": "stream",
          "name": "stdout",
          "text": [
            "💡 客厅 灯亮了（颜色：白色）\n",
            "💡 客厅 颜色设置为 蓝色\n",
            "💡 客厅 灯灭了\n"
          ]
        }
      ]
    },
    {
      "cell_type": "markdown",
      "source": [
        "### 4.1 LampGroup 类：并联控制"
      ],
      "metadata": {
        "id": "pkiw57Gxg2Zq"
      }
    },
    {
      "cell_type": "code",
      "source": [
        "class LampGroup:\n",
        "  def __init__(self, lamps):\n",
        "    self.lamps = lamps\n",
        "\n",
        "  def turn_all_on(self):\n",
        "      for lamp in self.lamps:\n",
        "          lamp.turn_on()\n",
        "\n",
        "  def turn_all_off(self):\n",
        "      for lamp in self.lamps:\n",
        "          lamp.turn_off()\n",
        "\n",
        "  def set_all_color(self, color):\n",
        "      for lamp in self.lamps:\n",
        "          lamp.set_color(color)\n",
        "\n",
        "lamp1 = Lamp(\"厨房\")\n",
        "lamp2 = Lamp(\"书房\")\n",
        "\n",
        "group = LampGroup([lamp1, lamp2])\n",
        "group.set_all_color(\"绿色\")\n",
        "group.turn_all_on()\n",
        "group.turn_all_off()"
      ],
      "metadata": {
        "colab": {
          "base_uri": "https://localhost:8080/"
        },
        "id": "hhsrppr4hIng",
        "outputId": "6c8c2084-8ccd-4464-9292-72250b0c629c"
      },
      "execution_count": null,
      "outputs": [
        {
          "output_type": "stream",
          "name": "stdout",
          "text": [
            "💡 厨房 颜色设置为 绿色\n",
            "💡 书房 颜色设置为 绿色\n",
            "💡 厨房 灯亮了（颜色：绿色）\n",
            "💡 书房 灯亮了（颜色：绿色）\n",
            "💡 厨房 灯灭了\n",
            "💡 书房 灯灭了\n"
          ]
        }
      ]
    },
    {
      "cell_type": "markdown",
      "source": [
        "## **❓ Q: 为什么__init__方法的定义和其他方法不一样？**"
      ],
      "metadata": {
        "id": "02ubH8bjznHU"
      }
    },
    {
      "cell_type": "markdown",
      "source": [
        "### A： 在 Python 中，前后带双下划线的方法（如 __init__、__str__、__len__ 等）被称为：\n",
        "\n",
        "**特殊方法（Special Methods）或魔术方法（Magic Methods）**\n",
        "\n",
        "这些方法不是你自己随便命名的，而是 Python 语言内部 定义好的一些“协议”方法，用来实现某些特殊行为（比如对象初始化、打印显示、运算符重载等）。\n"
      ],
      "metadata": {
        "id": "aqkks7I6zjfz"
      }
    },
    {
      "cell_type": "markdown",
      "source": [
        "### 🔍 为什么要有 __xxx__ 命名？\n",
        "\n",
        "Python 使用 __xxx__ 命名规则，是为了：\n",
        "\t1.\t避免和用户自定义的方法或变量冲突（起到命名隔离的作用）\n",
        "\t2.\t表示“这个方法不是给你直接调用的，而是由 Python 自动触发的”\n",
        "\n",
        "\n",
        "### 🧠 常见的特殊方法说明\n",
        "\n",
        "__init__\t创建对象时自动调用\t初始化对象属性\n",
        "\n",
        "> __str__\t使用 print(obj) 或 str(obj) 时调用\t定义对象的字符串表示\n",
        "\n",
        "> __repr__\t在解释器中查看对象，或调试打印\t提供开发者友好的表示\n",
        "\n",
        "> __len__\t用 len(obj) 时触发\t自定义对象的长度行为\n",
        "\n",
        "> __getitem__\t用 obj[key] 访问元素时触发\t类似列表或字典的索引访问\n",
        "\n",
        "> __eq__\t比较两个对象是否相等（==）\t重写对象的等价逻辑\n",
        "\n",
        "> __add__\t对象相加（+）时触发\t运算符重载\n",
        "\n",
        "> __call__\t当对象像函数一样被调用时\tobj() 会触发 obj.__call__()\n"
      ],
      "metadata": {
        "id": "TN-ABJ5p0FMk"
      }
    },
    {
      "cell_type": "markdown",
      "source": [
        "### ✅ 示例：理解 __init__ 和 __str__"
      ],
      "metadata": {
        "id": "tkGULCIA0dc5"
      }
    },
    {
      "cell_type": "code",
      "source": [
        "class Dog:\n",
        "    def __init__(self, name):\n",
        "        self.name = name\n",
        "\n",
        "    def __str__(self):\n",
        "        return f\"这是一只叫 {self.name} 的狗\"\n",
        "\n",
        "dog = Dog(\"小白\")\n",
        "print(dog)  # 自动调用 __str__ 方法"
      ],
      "metadata": {
        "colab": {
          "base_uri": "https://localhost:8080/"
        },
        "id": "EnUr5tYn0gah",
        "outputId": "af8e3cea-2e7b-4a6e-e073-ce6990afba88"
      },
      "execution_count": null,
      "outputs": [
        {
          "output_type": "stream",
          "name": "stdout",
          "text": [
            "这是一只叫 小白 的狗\n"
          ]
        }
      ]
    },
    {
      "cell_type": "markdown",
      "source": [
        "**🚫 注意**\n",
        "\n",
        "**不要给自己写的方法起名为 __myfunc__，除非你正在定义某种特殊协议，否则可能会引起误解或冲突。**"
      ],
      "metadata": {
        "id": "U6Ke7OXK0n8h"
      }
    },
    {
      "cell_type": "markdown",
      "source": [
        "### 🪄 魔术方法大全"
      ],
      "metadata": {
        "id": "bu2DWttuz7nk"
      }
    },
    {
      "cell_type": "markdown",
      "source": [
        "#### 🧱 对象生命周期\n",
        "| 魔术方法       | 功能         | 示例说明                 |\n",
        "|----------------|--------------|--------------------------|\n",
        "| `__init__`     | 构造函数     | 对象初始化               |\n",
        "| `__new__`      | 创建对象     | 用于控制实例化流程       |\n",
        "| `__del__`      | 析构函数     | 对象销毁前自动调用       |"
      ],
      "metadata": {
        "id": "q_SrfT591QUI"
      }
    },
    {
      "cell_type": "markdown",
      "source": [
        "#### 📦 字符串与格式化\n",
        "| 魔术方法       | 功能         | 示例说明                     |\n",
        "|----------------|--------------|------------------------------|\n",
        "| `__str__`      | 字符串表示   | `print(obj)` 时显示内容      |\n",
        "| `__repr__`     | 调试表示     | `repr(obj)`，交互模式打印    |\n",
        "| `__format__`   | 格式化输出   | `f\"{obj:>10}\"` 等格式调用    |\n",
        "| `__bytes__`    | 转为字节串   | `bytes(obj)`                 |"
      ],
      "metadata": {
        "id": "hqMgAanh1UrE"
      }
    },
    {
      "cell_type": "markdown",
      "source": [
        "#### 📏 容器行为\n",
        "| 魔术方法       | 功能         | 示例操作          |\n",
        "|----------------|--------------|-------------------|\n",
        "| `__len__`      | 长度         | `len(obj)`        |\n",
        "| `__getitem__`  | 获取元素     | `obj[key]`        |\n",
        "| `__setitem__`  | 设置元素     | `obj[key] = val`  |\n",
        "| `__delitem__`  | 删除元素     | `del obj[key]`    |\n",
        "| `__contains__` | 包含判断     | `item in obj`     |\n",
        "| `__iter__`     | 可迭代       | `for x in obj`    |\n",
        "| `__next__`     | 迭代下一个   | `next(obj)`       |"
      ],
      "metadata": {
        "id": "sIA0oUYj1ZXm"
      }
    },
    {
      "cell_type": "markdown",
      "source": [
        "#### 🧮 运算符重载\n",
        "| 魔术方法     | 运算符 | 功能     |\n",
        "|--------------|--------|----------|\n",
        "| `__add__`    | `+`    | 加法     |\n",
        "| `__sub__`    | `-`    | 减法     |\n",
        "| `__mul__`    | `*`    | 乘法     |\n",
        "| `__truediv__`| `/`    | 除法     |\n",
        "| `__floordiv__`| `//`  | 整除     |\n",
        "| `__mod__`    | `%`    | 取模     |\n",
        "| `__pow__`    | `**`   | 幂运算   |\n",
        "| `__eq__`     | `==`   | 等于     |\n",
        "| `__ne__`     | `!=`   | 不等于   |\n",
        "| `__lt__`     | `<`    | 小于     |\n",
        "| `__le__`     | `<=`   | 小于等于 |\n",
        "| `__gt__`     | `>`    | 大于     |\n",
        "| `__ge__`     | `>=`   | 大于等于 |"
      ],
      "metadata": {
        "id": "TRMT_Nmg1d7f"
      }
    },
    {
      "cell_type": "markdown",
      "source": [
        "#### 🧠 属性与可调用对象\n",
        "| 魔术方法       | 功能         | 示例说明               |\n",
        "|----------------|--------------|------------------------|\n",
        "| `__call__`     | 可调用对象   | `obj()` 像函数一样调用 |\n",
        "| `__getattr__`  | 获取缺失属性 | `obj.xxx` 不存在时触发 |\n",
        "| `__setattr__`  | 设置属性     | `obj.xxx = val`        |\n",
        "| `__delattr__`  | 删除属性     | `del obj.xxx`          |\n",
        "| `__getattribute__` | 所有属性访问时 | 拦截所有属性访问 |"
      ],
      "metadata": {
        "id": "-fXb4h5t1hjv"
      }
    },
    {
      "cell_type": "markdown",
      "source": [
        "#### 🔄 上下文管理（with）\n",
        "| 魔术方法     | 功能         | 示例说明        |\n",
        "|--------------|--------------|-----------------|\n",
        "| `__enter__`  | 进入上下文   | `with obj:`     |\n",
        "| `__exit__`   | 退出上下文   | 自动清理资源等  |"
      ],
      "metadata": {
        "id": "9RSa67zX1k1t"
      }
    },
    {
      "cell_type": "markdown",
      "source": [
        "#### 🔁 类型转换与布尔判断\n",
        "| 魔术方法     | 功能         | 示例说明      |\n",
        "|--------------|--------------|---------------|\n",
        "| `__bool__`   | 布尔值判断   | `if obj:`     |\n",
        "| `__int__`    | 转换整数     | `int(obj)`    |\n",
        "| `__float__`  | 转换浮点数   | `float(obj)`  |\n",
        "| `__complex__`| 转复数       | `complex(obj)`|\n",
        "| `__hash__`   | 哈希值       | `hash(obj)`，用于 set/dict 键 |"
      ],
      "metadata": {
        "id": "6CTkQ0CT1ptZ"
      }
    },
    {
      "cell_type": "markdown",
      "source": [
        "#### 🧠 什么是运算符重载？\n",
        "\n",
        "在 Python 中，像 +, -, *, ==, < 这些运算符其实是语法糖，底层会调用类中定义的特殊方法（魔术方法）。\n",
        "你可以通过重写这些魔术方法，让自定义类也支持这些操作！\n",
        "\n",
        "⸻\n",
        "\n",
        "✅ 最常用运算符重载方法表\n",
        "\n",
        "运算符\t魔术方法\t用途说明\n",
        "+\t__add__\t加法\n",
        "-\t__sub__\t减法\n",
        "*\t__mul__\t乘法\n",
        "==\t__eq__\t判断相等\n",
        "<\t__lt__\t小于比较\n",
        "\n",
        "\n",
        "⸻"
      ],
      "metadata": {
        "id": "usjd0E0816ZD"
      }
    },
    {
      "cell_type": "markdown",
      "source": [
        "#### 🔧 示例：向量类（Vector）支持加法和比较"
      ],
      "metadata": {
        "id": "UTbz6Ijl1_M5"
      }
    },
    {
      "cell_type": "code",
      "source": [
        "class Vector:\n",
        "    def __init__(self, x, y):\n",
        "        self.x = x\n",
        "        self.y = y\n",
        "\n",
        "    def __add__(self, other):\n",
        "        # 支持 Vector + Vector\n",
        "        return Vector(self.x + other.x, self.y + other.y)\n",
        "\n",
        "    def __eq__(self, other):\n",
        "        # 比较两个向量是否相等\n",
        "        return self.x == other.x and self.y == other.y\n",
        "\n",
        "    def __str__(self):\n",
        "        return f\"({self.x}, {self.y})\""
      ],
      "metadata": {
        "id": "OE0yuOduzlPK"
      },
      "execution_count": null,
      "outputs": []
    },
    {
      "cell_type": "code",
      "source": [
        "# 🔍 使用演示\n",
        "\n",
        "v1 = Vector(1, 2)\n",
        "v2 = Vector(3, 4)\n",
        "v3 = v1 + v2  # 自动调用 __add__\n",
        "print(v3)     # 输出: (4, 6)"
      ],
      "metadata": {
        "colab": {
          "base_uri": "https://localhost:8080/"
        },
        "id": "mBvKyjwP2E0R",
        "outputId": "3a3a4dbe-50a9-4877-e911-287a86f7521e"
      },
      "execution_count": null,
      "outputs": [
        {
          "output_type": "stream",
          "name": "stdout",
          "text": [
            "(4, 6)\n"
          ]
        }
      ]
    },
    {
      "cell_type": "code",
      "source": [
        "print(v1 == Vector(1, 2))  # True，自动调用 __eq__"
      ],
      "metadata": {
        "colab": {
          "base_uri": "https://localhost:8080/"
        },
        "id": "6z17UZvP2Fhg",
        "outputId": "c6206f03-c240-4bd9-d6ce-45df7f8f9f37"
      },
      "execution_count": null,
      "outputs": [
        {
          "output_type": "stream",
          "name": "stdout",
          "text": [
            "True\n"
          ]
        }
      ]
    },
    {
      "cell_type": "code",
      "source": [
        "print(v1 == v2)            # False"
      ],
      "metadata": {
        "colab": {
          "base_uri": "https://localhost:8080/"
        },
        "id": "v7UhpCVG24c7",
        "outputId": "86c1ee0a-8726-403e-b24d-454e9d57441b"
      },
      "execution_count": null,
      "outputs": [
        {
          "output_type": "stream",
          "name": "stdout",
          "text": [
            "False\n"
          ]
        }
      ]
    }
  ]
}